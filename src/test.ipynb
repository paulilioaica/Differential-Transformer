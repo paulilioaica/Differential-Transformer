{
 "cells": [
  {
   "cell_type": "code",
   "execution_count": 1,
   "metadata": {},
   "outputs": [
    {
     "name": "stdout",
     "output_type": "stream",
     "text": [
      "Transformer with embeddings test passed.\n"
     ]
    }
   ],
   "source": [
    "from transformer import Transformer\n",
    "import torch\n",
    "\n",
    "def test_transformer_with_embeddings():\n",
    "    # Hyperparameters\n",
    "    num_layers = 2\n",
    "    num_heads = 4\n",
    "    seq_len = 10\n",
    "    vocab_size = 50  # Let's assume the size of vocabulary is 50 for this test\n",
    "    embedding_dim = 64  # Embedding dimension\n",
    "\n",
    "    # Create the model\n",
    "    model = Transformer(num_layers, num_layers, embedding_dim, num_heads, seq_len, vocab_size, embedding_dim)\n",
    "    \n",
    "    # Create some inputs\n",
    "    x = torch.randint(vocab_size, (1, seq_len))  # batch size = 1\n",
    "    y = torch.randint(vocab_size, (1, seq_len))  # batch size = 1\n",
    "\n",
    "    # Forward pass\n",
    "    output = model(x, y)\n",
    "\n",
    "    # Check output size\n",
    "    assert output.shape == torch.Size([1, seq_len, vocab_size]), f\"Expected output shape (1, {seq_len}, {vocab_size}), but got {output.shape}\"\n",
    "    \n",
    "    print(\"Transformer with embeddings test passed.\")\n",
    "test_transformer_with_embeddings()\n",
    "\n",
    "\n"
   ]
  }
 ],
 "metadata": {
  "kernelspec": {
   "display_name": "Python 3",
   "language": "python",
   "name": "python3"
  },
  "language_info": {
   "codemirror_mode": {
    "name": "ipython",
    "version": 3
   },
   "file_extension": ".py",
   "mimetype": "text/x-python",
   "name": "python",
   "nbconvert_exporter": "python",
   "pygments_lexer": "ipython3",
   "version": "3.12.7"
  }
 },
 "nbformat": 4,
 "nbformat_minor": 2
}
